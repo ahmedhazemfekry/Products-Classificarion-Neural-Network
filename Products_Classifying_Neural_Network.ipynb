{
  "nbformat": 4,
  "nbformat_minor": 0,
  "metadata": {
    "colab": {
      "name": "Products Classifying Neural Network.ipynb",
      "version": "0.3.2",
      "provenance": [],
      "collapsed_sections": [],
      "include_colab_link": true
    },
    "kernelspec": {
      "name": "python3",
      "display_name": "Python 3"
    }
  },
  "cells": [
    {
      "cell_type": "markdown",
      "metadata": {
        "id": "view-in-github",
        "colab_type": "text"
      },
      "source": [
        "<a href=\"https://colab.research.google.com/github/ahmedhazemfekry/Products-Classificarion-Neural-Network/blob/dev/Products_Classifying_Neural_Network.ipynb\" target=\"_parent\"><img src=\"https://colab.research.google.com/assets/colab-badge.svg\" alt=\"Open In Colab\"/></a>"
      ]
    },
    {
      "metadata": {
        "id": "eGUrZsXIvYRC",
        "colab_type": "code",
        "colab": {},
        "cellView": "form"
      },
      "cell_type": "code",
      "source": [
        "#@title Loading Data\n"
      ],
      "execution_count": 0,
      "outputs": []
    },
    {
      "metadata": {
        "id": "QWcRTKUTt_rk",
        "colab_type": "code",
        "colab": {}
      },
      "cell_type": "code",
      "source": [
        "import pandas as pd\n",
        "import numpy as np\n",
        "from gensim.models.doc2vec import Doc2Vec, TaggedDocument\n",
        "from nltk.tokenize import word_tokenize\n",
        "\n",
        "#Loading Data\n",
        "data = pd.read_csv(\"Data_With_Category.csv\") \n",
        "data = data.dropna(subset=['Product'])\n",
        "data = data.drop_duplicates(subset=['Product'])\n",
        "\n",
        "train_data = data[\"Product\"].tolist()\n",
        "train_labels = data[\"Product type\"].tolist()\n"
      ],
      "execution_count": 0,
      "outputs": []
    },
    {
      "metadata": {
        "id": "qSzPl4aKjyTj",
        "colab_type": "code",
        "colab": {}
      },
      "cell_type": "code",
      "source": [
        "def get_Labels(l):\n",
        "    Labels_List = []\n",
        "    Categories  = []\n",
        "    for Category in l:\n",
        "        if Category in Categories:\n",
        "            Labels_List.append(Categories.index(Category))\n",
        "        else:\n",
        "            Categories.append(Category)\n",
        "            Labels_List.append(Categories.index(Category))\n",
        "    return Labels_List, Categories\n",
        "  \n",
        "labels, classes = get_Labels(train_labels)\n",
        "\n",
        "def get_classes(l):\n",
        "  list = np.zeros([144, 21])\n",
        "  for idx,item in enumerate(labels):\n",
        "    x = np.zeros(21)\n",
        "    x[item]=1\n",
        "    list[idx]=x\n",
        "  return list\n",
        "   \n",
        "targets = get_classes(labels)\n"
      ],
      "execution_count": 0,
      "outputs": []
    },
    {
      "metadata": {
        "id": "PL2Oxib5uukb",
        "colab_type": "code",
        "colab": {
          "base_uri": "https://localhost:8080/",
          "height": 34
        },
        "outputId": "eb6c60db-e75e-4cd3-859d-149386402d10"
      },
      "cell_type": "code",
      "source": [
        "print(\"Training entries: {}, labels: {}\".format(len(train_data), len(train_labels)))"
      ],
      "execution_count": 10,
      "outputs": [
        {
          "output_type": "stream",
          "text": [
            "Training entries: 144, labels: 144\n"
          ],
          "name": "stdout"
        }
      ]
    },
    {
      "metadata": {
        "colab_type": "code",
        "cellView": "form",
        "id": "ocFEigQjxP6a",
        "colab": {}
      },
      "cell_type": "code",
      "source": [
        "#@title Pre-Processing of Data \n"
      ],
      "execution_count": 0,
      "outputs": []
    },
    {
      "metadata": {
        "id": "GAbWZqqawPr2",
        "colab_type": "code",
        "colab": {
          "base_uri": "https://localhost:8080/",
          "height": 68
        },
        "outputId": "3ee6429c-620d-4aa7-c5ee-ed3af11e2283"
      },
      "cell_type": "code",
      "source": [
        "import nltk\n",
        "nltk.download('punkt')"
      ],
      "execution_count": 11,
      "outputs": [
        {
          "output_type": "stream",
          "text": [
            "[nltk_data] Downloading package punkt to /root/nltk_data...\n",
            "[nltk_data]   Unzipping tokenizers/punkt.zip.\n"
          ],
          "name": "stdout"
        },
        {
          "output_type": "execute_result",
          "data": {
            "text/plain": [
              "True"
            ]
          },
          "metadata": {
            "tags": []
          },
          "execution_count": 11
        }
      ]
    },
    {
      "metadata": {
        "colab_type": "text",
        "id": "9RZSB_USxQ0F"
      },
      "cell_type": "markdown",
      "source": [
        ">  **Convert Names to Vectors**"
      ]
    },
    {
      "metadata": {
        "id": "xAdnUv_hvmZ8",
        "colab_type": "code",
        "colab": {},
        "cellView": "both"
      },
      "cell_type": "code",
      "source": [
        "tagged_data = [TaggedDocument(words=word_tokenize(_d.lower()), tags=[str(i)]) for i, _d in enumerate(train_data)]\n",
        "\n",
        "max_epochs = 100\n",
        "vec_size = 20\n",
        "alpha = 0.025\n",
        "\n",
        "model = Doc2Vec(vector_size=vec_size,\n",
        "                alpha=alpha, \n",
        "                min_alpha=0.00025,\n",
        "                min_count=1,\n",
        "                dm =1)\n",
        "  \n",
        "model.build_vocab(tagged_data)\n",
        "\n",
        "for epoch in range(max_epochs):\n",
        "    model.train(tagged_data,\n",
        "                total_examples=model.corpus_count,\n",
        "                epochs=model.iter)\n",
        "    # decrease the learning rate\n",
        "    model.alpha -= 0.0002\n",
        "    # fix the learning rate, no decay\n",
        "    model.min_alpha = model.alpha\n",
        "\n",
        "model.save(\"d2v.model\")\n",
        "print(\"Model Saved\")"
      ],
      "execution_count": 0,
      "outputs": []
    },
    {
      "metadata": {
        "id": "JcweVJdBwXIm",
        "colab_type": "code",
        "colab": {},
        "cellView": "form"
      },
      "cell_type": "code",
      "source": [
        "#@title Converting a Product Name to Vector function\n"
      ],
      "execution_count": 0,
      "outputs": []
    },
    {
      "metadata": {
        "id": "PYLTZ2wDxtTc",
        "colab_type": "code",
        "colab": {
          "base_uri": "https://localhost:8080/",
          "height": 238
        },
        "outputId": "10574420-6efc-4022-9e9c-eed14e65dc0d"
      },
      "cell_type": "code",
      "source": [
        "def ConvertProductName(name):\n",
        "    model= Doc2Vec.load(\"d2v.model\")\n",
        "    #to find the vector of a document which is not in training data\n",
        "    test_data = word_tokenize(name.lower())\n",
        "    v1 = model.infer_vector(test_data)\n",
        "    #print(\"V1_infer\", v1)\n",
        "\n",
        "    # to find most similar doc using tags\n",
        "    # similar_doc = model.docvecs.most_similar('1')\n",
        "    return v1\n",
        "  \n",
        "def get_Product_Vectors(l):\n",
        "    Vectors_List = np.zeros([144,20])\n",
        "    for idx in range(144):\n",
        "        Vectors_List[idx]=l[idx]\n",
        "    return Vectors_List\n",
        "\n",
        "data = get_Product_Vectors(model.docvecs)\n",
        "data"
      ],
      "execution_count": 94,
      "outputs": [
        {
          "output_type": "execute_result",
          "data": {
            "text/plain": [
              "array([[-1.09431422, -0.25098208,  0.37261838, ...,  0.43428639,\n",
              "         0.33644974,  0.58467174],\n",
              "       [-0.70218217,  0.67952943,  0.25148463, ...,  0.12124254,\n",
              "        -0.38585401,  0.15318863],\n",
              "       [-0.63633358, -0.44368315,  0.81650734, ...,  0.7322666 ,\n",
              "        -0.51216257,  1.2440691 ],\n",
              "       ...,\n",
              "       [-1.14238715, -0.22626844,  0.4471513 , ...,  0.08260925,\n",
              "         0.37470025,  0.56833804],\n",
              "       [-0.86706245, -0.18053859, -0.1601737 , ...,  0.45622188,\n",
              "         0.0440066 ,  1.44778895],\n",
              "       [-0.67403197,  0.13912815, -0.03314321, ...,  0.51565164,\n",
              "        -0.28113881,  1.19878948]])"
            ]
          },
          "metadata": {
            "tags": []
          },
          "execution_count": 94
        }
      ]
    },
    {
      "metadata": {
        "id": "KJPVRVyZzKqy",
        "colab_type": "code",
        "colab": {},
        "cellView": "form"
      },
      "cell_type": "code",
      "source": [
        "#@title Building The Model\n"
      ],
      "execution_count": 0,
      "outputs": []
    },
    {
      "metadata": {
        "id": "miDoPxaAzO_A",
        "colab_type": "code",
        "colab": {}
      },
      "cell_type": "code",
      "source": [
        "# keras.datasets.imdb is broken in 1.13 and 1.14, by np 1.16.3\n",
        "!pip install tf_nightly\n",
        "!pip install -q pyyaml  # Required to save models in YAML format"
      ],
      "execution_count": 0,
      "outputs": []
    },
    {
      "metadata": {
        "id": "QMdVLk_hzYSy",
        "colab_type": "code",
        "colab": {
          "base_uri": "https://localhost:8080/",
          "height": 51
        },
        "outputId": "3c02f62c-fdb8-445e-9ea5-68032d669031"
      },
      "cell_type": "code",
      "source": [
        "import tensorflow as tf\n",
        "from tensorflow.keras import layers\n",
        "\n",
        "print(tf.VERSION)\n",
        "print(tf.keras.__version__)"
      ],
      "execution_count": 2,
      "outputs": [
        {
          "output_type": "stream",
          "text": [
            "1.14.1-dev20190501\n",
            "2.2.4-tf\n"
          ],
          "name": "stdout"
        }
      ]
    },
    {
      "metadata": {
        "id": "W7qx1z0_jYw5",
        "colab_type": "code",
        "colab": {
          "base_uri": "https://localhost:8080/",
          "height": 1414
        },
        "outputId": "e0bd46a6-27f2-497a-9b28-8b54bb02a074"
      },
      "cell_type": "code",
      "source": [
        "ML_model = tf.keras.Sequential([\n",
        "# Adds a densely-connected layer with 64 units to the model:\n",
        "layers.Dense(64, activation='relu', input_shape=(20,)),\n",
        "# Add another:\n",
        "layers.Dense(64, activation='relu'),\n",
        "# Add a softmax layer with 10 output units:\n",
        "layers.Dense(21, activation='softmax')])\n",
        "\n",
        "ML_model.compile(optimizer=tf.train.AdamOptimizer(0.001),\n",
        "              loss='categorical_crossentropy',\n",
        "              metrics=['accuracy'])\n",
        "\n",
        "train_data = data[0:120]\n",
        "train_labels = targets[0:120]\n",
        "\n",
        "test_data = data[121:131]\n",
        "test_labels = targets[121:131]\n",
        "\n",
        "val_data = data[132:143]\n",
        "val_labels = targets[132:143]\n",
        "\n",
        "history = ML_model.fit(train_data, train_labels, epochs=40, batch_size=30,\n",
        "          validation_data=(val_data, val_labels), verbose=1)\n",
        "\n"
      ],
      "execution_count": 189,
      "outputs": [
        {
          "output_type": "stream",
          "text": [
            "Train on 120 samples, validate on 11 samples\n",
            "Epoch 1/40\n",
            "120/120 [==============================] - 1s 10ms/sample - loss: 3.1185 - acc: 0.0417 - val_loss: 3.2872 - val_acc: 0.0000e+00\n",
            "Epoch 2/40\n",
            "120/120 [==============================] - 0s 233us/sample - loss: 3.0447 - acc: 0.0667 - val_loss: 3.2413 - val_acc: 0.0000e+00\n",
            "Epoch 3/40\n",
            "120/120 [==============================] - 0s 203us/sample - loss: 2.9845 - acc: 0.0833 - val_loss: 3.2077 - val_acc: 0.0000e+00\n",
            "Epoch 4/40\n",
            "120/120 [==============================] - 0s 228us/sample - loss: 2.9305 - acc: 0.1250 - val_loss: 3.1732 - val_acc: 0.0000e+00\n",
            "Epoch 5/40\n",
            "120/120 [==============================] - 0s 206us/sample - loss: 2.8800 - acc: 0.1417 - val_loss: 3.1411 - val_acc: 0.0000e+00\n",
            "Epoch 6/40\n",
            "120/120 [==============================] - 0s 203us/sample - loss: 2.8314 - acc: 0.2250 - val_loss: 3.1089 - val_acc: 0.0000e+00\n",
            "Epoch 7/40\n",
            "120/120 [==============================] - 0s 190us/sample - loss: 2.7821 - acc: 0.3000 - val_loss: 3.0792 - val_acc: 0.0000e+00\n",
            "Epoch 8/40\n",
            "120/120 [==============================] - 0s 200us/sample - loss: 2.7308 - acc: 0.3250 - val_loss: 3.0530 - val_acc: 0.0000e+00\n",
            "Epoch 9/40\n",
            "120/120 [==============================] - 0s 201us/sample - loss: 2.6784 - acc: 0.3417 - val_loss: 3.0253 - val_acc: 0.0000e+00\n",
            "Epoch 10/40\n",
            "120/120 [==============================] - 0s 206us/sample - loss: 2.6205 - acc: 0.3833 - val_loss: 2.9990 - val_acc: 0.1818\n",
            "Epoch 11/40\n",
            "120/120 [==============================] - 0s 202us/sample - loss: 2.5587 - acc: 0.4000 - val_loss: 2.9710 - val_acc: 0.1818\n",
            "Epoch 12/40\n",
            "120/120 [==============================] - 0s 226us/sample - loss: 2.4985 - acc: 0.4250 - val_loss: 2.9392 - val_acc: 0.1818\n",
            "Epoch 13/40\n",
            "120/120 [==============================] - 0s 189us/sample - loss: 2.4303 - acc: 0.4333 - val_loss: 2.9163 - val_acc: 0.1818\n",
            "Epoch 14/40\n",
            "120/120 [==============================] - 0s 181us/sample - loss: 2.3619 - acc: 0.4500 - val_loss: 2.8899 - val_acc: 0.1818\n",
            "Epoch 15/40\n",
            "120/120 [==============================] - 0s 186us/sample - loss: 2.2909 - acc: 0.4833 - val_loss: 2.8675 - val_acc: 0.1818\n",
            "Epoch 16/40\n",
            "120/120 [==============================] - 0s 233us/sample - loss: 2.2155 - acc: 0.5083 - val_loss: 2.8532 - val_acc: 0.1818\n",
            "Epoch 17/40\n",
            "120/120 [==============================] - 0s 200us/sample - loss: 2.1416 - acc: 0.5083 - val_loss: 2.8437 - val_acc: 0.1818\n",
            "Epoch 18/40\n",
            "120/120 [==============================] - 0s 200us/sample - loss: 2.0653 - acc: 0.5250 - val_loss: 2.8302 - val_acc: 0.1818\n",
            "Epoch 19/40\n",
            "120/120 [==============================] - 0s 201us/sample - loss: 1.9896 - acc: 0.5417 - val_loss: 2.8204 - val_acc: 0.0909\n",
            "Epoch 20/40\n",
            "120/120 [==============================] - 0s 196us/sample - loss: 1.9109 - acc: 0.5667 - val_loss: 2.8202 - val_acc: 0.0909\n",
            "Epoch 21/40\n",
            "120/120 [==============================] - 0s 190us/sample - loss: 1.8319 - acc: 0.5750 - val_loss: 2.8248 - val_acc: 0.0909\n",
            "Epoch 22/40\n",
            "120/120 [==============================] - 0s 192us/sample - loss: 1.7538 - acc: 0.5750 - val_loss: 2.8309 - val_acc: 0.0909\n",
            "Epoch 23/40\n",
            "120/120 [==============================] - 0s 198us/sample - loss: 1.6780 - acc: 0.5583 - val_loss: 2.8396 - val_acc: 0.0909\n",
            "Epoch 24/40\n",
            "120/120 [==============================] - 0s 236us/sample - loss: 1.6057 - acc: 0.5917 - val_loss: 2.8475 - val_acc: 0.0909\n",
            "Epoch 25/40\n",
            "120/120 [==============================] - 0s 204us/sample - loss: 1.5321 - acc: 0.6250 - val_loss: 2.8624 - val_acc: 0.0909\n",
            "Epoch 26/40\n",
            "120/120 [==============================] - 0s 203us/sample - loss: 1.4642 - acc: 0.6583 - val_loss: 2.8856 - val_acc: 0.0909\n",
            "Epoch 27/40\n",
            "120/120 [==============================] - 0s 215us/sample - loss: 1.3918 - acc: 0.6833 - val_loss: 2.8975 - val_acc: 0.1818\n",
            "Epoch 28/40\n",
            "120/120 [==============================] - 0s 180us/sample - loss: 1.3285 - acc: 0.6917 - val_loss: 2.9108 - val_acc: 0.1818\n",
            "Epoch 29/40\n",
            "120/120 [==============================] - 0s 192us/sample - loss: 1.2643 - acc: 0.7083 - val_loss: 2.9321 - val_acc: 0.1818\n",
            "Epoch 30/40\n",
            "120/120 [==============================] - 0s 212us/sample - loss: 1.2040 - acc: 0.7083 - val_loss: 2.9376 - val_acc: 0.1818\n",
            "Epoch 31/40\n",
            "120/120 [==============================] - 0s 191us/sample - loss: 1.1479 - acc: 0.7167 - val_loss: 2.9538 - val_acc: 0.1818\n",
            "Epoch 32/40\n",
            "120/120 [==============================] - 0s 212us/sample - loss: 1.0919 - acc: 0.7417 - val_loss: 2.9632 - val_acc: 0.1818\n",
            "Epoch 33/40\n",
            "120/120 [==============================] - 0s 185us/sample - loss: 1.0400 - acc: 0.7583 - val_loss: 2.9752 - val_acc: 0.1818\n",
            "Epoch 34/40\n",
            "120/120 [==============================] - 0s 209us/sample - loss: 0.9898 - acc: 0.7500 - val_loss: 2.9786 - val_acc: 0.2727\n",
            "Epoch 35/40\n",
            "120/120 [==============================] - 0s 197us/sample - loss: 0.9463 - acc: 0.8167 - val_loss: 3.0024 - val_acc: 0.1818\n",
            "Epoch 36/40\n",
            "120/120 [==============================] - 0s 218us/sample - loss: 0.9023 - acc: 0.8500 - val_loss: 3.0104 - val_acc: 0.2727\n",
            "Epoch 37/40\n",
            "120/120 [==============================] - 0s 207us/sample - loss: 0.8620 - acc: 0.8500 - val_loss: 3.0191 - val_acc: 0.2727\n",
            "Epoch 38/40\n",
            "120/120 [==============================] - 0s 194us/sample - loss: 0.8217 - acc: 0.8583 - val_loss: 3.0315 - val_acc: 0.2727\n",
            "Epoch 39/40\n",
            "120/120 [==============================] - 0s 190us/sample - loss: 0.7854 - acc: 0.8750 - val_loss: 3.0379 - val_acc: 0.2727\n",
            "Epoch 40/40\n",
            "120/120 [==============================] - 0s 202us/sample - loss: 0.7492 - acc: 0.8667 - val_loss: 3.0359 - val_acc: 0.2727\n"
          ],
          "name": "stdout"
        }
      ]
    },
    {
      "metadata": {
        "id": "04DL9BfJaGyl",
        "colab_type": "code",
        "colab": {
          "base_uri": "https://localhost:8080/",
          "height": 34
        },
        "outputId": "e0269101-2b1c-48bf-fc89-0437bdb1ac2c"
      },
      "cell_type": "code",
      "source": [
        "results = ML_model.evaluate(test_data, test_labels)"
      ],
      "execution_count": 190,
      "outputs": [
        {
          "output_type": "stream",
          "text": [
            "\r10/10 [==============================] - 0s 748us/sample - loss: 1.6977 - acc: 0.6000\n"
          ],
          "name": "stdout"
        }
      ]
    },
    {
      "metadata": {
        "id": "wREVucW8amuX",
        "colab_type": "code",
        "colab": {
          "base_uri": "https://localhost:8080/",
          "height": 34
        },
        "outputId": "bee76e80-4985-49fd-90b6-04ffc77c9974"
      },
      "cell_type": "code",
      "source": [
        "history_dict = history.history\n",
        "history_dict.keys()"
      ],
      "execution_count": 191,
      "outputs": [
        {
          "output_type": "execute_result",
          "data": {
            "text/plain": [
              "dict_keys(['loss', 'acc', 'val_loss', 'val_acc'])"
            ]
          },
          "metadata": {
            "tags": []
          },
          "execution_count": 191
        }
      ]
    },
    {
      "metadata": {
        "id": "VYZXjcZNbifk",
        "colab_type": "code",
        "colab": {
          "base_uri": "https://localhost:8080/",
          "height": 295
        },
        "outputId": "f5659531-824e-41fc-f079-ff941995830e"
      },
      "cell_type": "code",
      "source": [
        "import matplotlib.pyplot as plt\n",
        "\n",
        "acc = history_dict['acc']\n",
        "val_acc = history_dict['val_acc']\n",
        "loss = history_dict['loss']\n",
        "val_loss = history_dict['val_loss']\n",
        "\n",
        "epochs = range(1, len(acc) + 1)\n",
        "\n",
        "# \"bo\" is for \"blue dot\"\n",
        "plt.plot(epochs, loss, 'bo', label='Training loss')\n",
        "# b is for \"solid blue line\"\n",
        "plt.plot(epochs, val_loss, 'b', label='Validation loss')\n",
        "plt.title('Training and validation loss')\n",
        "plt.xlabel('Epochs')\n",
        "plt.ylabel('Loss')\n",
        "plt.legend()\n",
        "\n",
        "plt.show()"
      ],
      "execution_count": 192,
      "outputs": [
        {
          "output_type": "display_data",
          "data": {
            "image/png": "[encoded data removed]",
            "text/plain": [
              "<Figure size 432x288 with 1 Axes>"
            ]
          },
          "metadata": {
            "tags": []
          }
        }
      ]
    },
    {
      "metadata": {
        "id": "ER4yWIXObpT6",
        "colab_type": "code",
        "colab": {
          "base_uri": "https://localhost:8080/",
          "height": 295
        },
        "outputId": "95b50c59-2fbf-4f39-c061-3fe07e223e6c"
      },
      "cell_type": "code",
      "source": [
        "plt.clf()   # clear figure\n",
        "\n",
        "plt.plot(epochs, acc, 'bo', label='Training acc')\n",
        "plt.plot(epochs, val_acc, 'b', label='Validation acc')\n",
        "plt.title('Training and validation accuracy')\n",
        "plt.xlabel('Epochs')\n",
        "plt.ylabel('Accuracy')\n",
        "plt.legend()\n",
        "\n",
        "plt.show()"
      ],
      "execution_count": 193,
      "outputs": [
        {
          "output_type": "display_data",
          "data": {
            "image/png": "[encoded data removed]",
            "text/plain": [
              "<Figure size 432x288 with 1 Axes>"
            ]
          },
          "metadata": {
            "tags": []
          }
        }
      ]
    },
    {
      "metadata": {
        "id": "o3bHafTAlMBt",
        "colab_type": "code",
        "colab": {
          "base_uri": "https://localhost:8080/",
          "height": 238
        },
        "outputId": "ab6a1dc7-be38-455e-f0e8-747bed3a1503"
      },
      "cell_type": "code",
      "source": [
        "result = ML_model.predict(train_data, batch_size=32)\n",
        "result"
      ],
      "execution_count": 196,
      "outputs": [
        {
          "output_type": "execute_result",
          "data": {
            "text/plain": [
              "array([[8.1885356e-01, 8.2471088e-05, 5.8593749e-05, ..., 6.2247488e-04,\n",
              "        1.1919680e-03, 3.5645504e-04],\n",
              "       [8.2770461e-01, 2.3556428e-04, 4.3808308e-05, ..., 1.9333364e-05,\n",
              "        2.1115673e-05, 2.5484373e-04],\n",
              "       [6.4606592e-04, 4.4429326e-01, 5.4820087e-02, ..., 1.8295489e-03,\n",
              "        5.9993491e-03, 7.2238292e-03],\n",
              "       ...,\n",
              "       [6.8632285e-03, 2.5354067e-05, 2.3197508e-04, ..., 1.5809560e-03,\n",
              "        3.0306945e-04, 2.9145210e-04],\n",
              "       [3.8206717e-03, 2.2938944e-05, 1.9317126e-04, ..., 5.9938652e-04,\n",
              "        7.8379948e-05, 3.7882899e-04],\n",
              "       [6.7381516e-02, 1.5452403e-03, 2.2502569e-03, ..., 6.0799718e-03,\n",
              "        4.6335841e-03, 4.3110698e-03]], dtype=float32)"
            ]
          },
          "metadata": {
            "tags": []
          },
          "execution_count": 196
        }
      ]
    }
  ]
}